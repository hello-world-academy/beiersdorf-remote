{
 "cells": [
  {
   "cell_type": "markdown",
   "metadata": {
    "slideshow": {
     "slide_type": "slide"
    }
   },
   "source": [
    "***\n",
    "# What is the `Binder`?"
   ]
  },
  {
   "cell_type": "markdown",
   "metadata": {},
   "source": [
    "[Binder](https://mybinder.org/) is a free online service that allows you to turn a Git repo into a collection of interactive notebooks. This offers the possibility to create an executable environment, making your code immediately reproducible by anyone, anywhere.\n",
    "\n",
    "Basicall Binder builds a [Docker](https://www.docker.com/) image of a repository. Binder build the Docker image based on a dependency file, such as `requirements.txt` or `environment.yml`. If an image has already been built for the given repository, it will not be rebuilt. If a new commit has been made, the image will automatically be rebuilt.\n"
   ]
  },
  {
   "cell_type": "markdown",
   "metadata": {},
   "source": [
    "## Working with the command line"
   ]
  },
  {
   "cell_type": "markdown",
   "metadata": {},
   "source": [
    "Using Binder you have actually access to a remote machine. If you want to work with the command line we suggest to call the command\n",
    "\n",
    "    PS1='$(pwd) > ' \n",
    "    \n",
    "This will give you a nicer promt."
   ]
  },
  {
   "cell_type": "markdown",
   "metadata": {},
   "source": [
    "***"
   ]
  }
 ],
 "metadata": {
  "kernelspec": {
   "display_name": "Python 3",
   "language": "python",
   "name": "python3"
  },
  "language_info": {
   "codemirror_mode": {
    "name": "ipython",
    "version": 3
   },
   "file_extension": ".py",
   "mimetype": "text/x-python",
   "name": "python",
   "nbconvert_exporter": "python",
   "pygments_lexer": "ipython3",
   "version": "3.9.4"
  }
 },
 "nbformat": 4,
 "nbformat_minor": 4
}
