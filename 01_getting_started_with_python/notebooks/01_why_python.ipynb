{
 "cells": [
  {
   "cell_type": "markdown",
   "metadata": {
    "slideshow": {
     "slide_type": "slide"
    }
   },
   "source": [
    "\n",
    "# Why Python?"
   ]
  },
  {
   "cell_type": "markdown",
   "metadata": {
    "slideshow": {
     "slide_type": "subslide"
    }
   },
   "source": [
    "### A powerful, all-purpose language with a great syntax (*\"executable pseudocode\"*)\n",
    "\n",
    "<img src=\"./_img/xkcd_learning_curve_wave_python.png\" width=\"700px\"> \n",
    "\n",
    "Source: [Fabien Maussion](http://fabienmaussion.info/)"
   ]
  },
  {
   "cell_type": "markdown",
   "metadata": {
    "slideshow": {
     "slide_type": "subslide"
    }
   },
   "source": [
    "### Interoperability with other languages\n",
    "\n",
    "[Guido van Rossum](https://gvanrossum.github.io//index.html) (creator of Python formerlly known as Benevolent Dictator For Life (BDFL))\n",
    "\n",
    "_... I never intended Python to be the primary language for programmers ..._\n",
    "\n",
    "_... bridge the gap between the shell and C ..._\n",
    "\n",
    "\n",
    "<img src=\"./_img/guido.png\" width=\"500px\">\n",
    "\n",
    "Source: [SD Times](https://sdtimes.com/guido-van-rossum/python-creator-proposes-type-annotations-programming-language/) (2014\n",
    ") & [A Conversation with Guido van Rossum](https://www.artima.com/intv/)  (2002)"
   ]
  },
  {
   "cell_type": "markdown",
   "metadata": {
    "slideshow": {
     "slide_type": "subslide"
    }
   },
   "source": [
    "### Open and encouraging community\n",
    "\n",
    "<img src=\"./_img/growth_major_languages-1-1400x1200.png\"  width=\"650px\">\n",
    "\n",
    "Source: [Blog post by David Robinson](https://stackoverflow.blog/2017/09/06/incredible-growth-python/) (September 6, 2017)\n",
    "\n",
    "\n"
   ]
  },
  {
   "cell_type": "markdown",
   "metadata": {
    "slideshow": {
     "slide_type": "subslide"
    }
   },
   "source": [
    "### Batteries included and third-party modules\n",
    "\n",
    "<img src=\"https://imgs.xkcd.com/comics/python.png\" width=\"500px;\">\n",
    "\n",
    "Source: [xkcd](https://xkcd.com/353/)"
   ]
  },
  {
   "cell_type": "markdown",
   "metadata": {},
   "source": [
    "### Python ecosystem\n",
    "\n",
    "\n",
    "<img src=\"./_img/python_ecosystem.png\"  style=\"height: 480px;\">\n",
    "\n",
    "***\n",
    "    conda install <YOUR-PACKAGE-OF-CHOICE> # conda package manager\n",
    "    pip install <YOUR-PACKAGE-OF-CHOICE>   # tool for installing Python packages\n",
    "    \n",
    "    >>> import <YOUR-PACKAGE-OF-CHOICE>"
   ]
  },
  {
   "cell_type": "markdown",
   "metadata": {},
   "source": [
    "### Python for other domains\n",
    "\n",
    "\n",
    "> _If you are interested in other domain specific stacks consider [Awesome Python](https://awesome-python.com/), a curated list of Python frameworks, libraries, software and resources._"
   ]
  },
  {
   "cell_type": "markdown",
   "metadata": {},
   "source": [
    "***"
   ]
  },
  {
   "cell_type": "markdown",
   "metadata": {},
   "source": [
    "### What language to start with?\n",
    "\n",
    "<img src=\"./_img/what_lagngage_to_start_with.png\"  style=\"width: 1280px;\">\n"
   ]
  },
  {
   "cell_type": "markdown",
   "metadata": {
    "slideshow": {
     "slide_type": "slide"
    }
   },
   "source": [
    "***"
   ]
  }
 ],
 "metadata": {
  "celltoolbar": "Slideshow",
  "kernelspec": {
   "display_name": "Python 3",
   "language": "python",
   "name": "python3"
  },
  "language_info": {
   "codemirror_mode": {
    "name": "ipython",
    "version": 3
   },
   "file_extension": ".py",
   "mimetype": "text/x-python",
   "name": "python",
   "nbconvert_exporter": "python",
   "pygments_lexer": "ipython3",
   "version": "3.9.4"
  },
  "livereveal": {
   "scroll": true,
   "start_slideshow_at": "selected"
  }
 },
 "nbformat": 4,
 "nbformat_minor": 4
}
