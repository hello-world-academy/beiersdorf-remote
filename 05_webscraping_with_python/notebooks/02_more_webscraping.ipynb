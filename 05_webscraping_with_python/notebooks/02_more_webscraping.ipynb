{
 "cells": [
  {
   "cell_type": "markdown",
   "metadata": {},
   "source": [
    "# Web Scraping with [Python](https://www.python.org/) using [`BeautifulSoup`](https://www.crummy.com/software/BeautifulSoup/bs4/doc/) and [`requests`](https://2.python-requests.org/en/master/)"
   ]
  },
  {
   "cell_type": "markdown",
   "metadata": {},
   "source": [
    "The task is to scarpe user reviews of a Beiersdorf product and analyse its content by generating a wordcloud."
   ]
  },
  {
   "cell_type": "markdown",
   "metadata": {},
   "source": [
    "__Set up__"
   ]
  },
  {
   "cell_type": "code",
   "execution_count": null,
   "metadata": {},
   "outputs": [],
   "source": [
    "%load_ext autoreload\n",
    "%autoreload 2"
   ]
  },
  {
   "cell_type": "markdown",
   "metadata": {},
   "source": [
    "__Importieren von Python Bibliotheken__"
   ]
  },
  {
   "cell_type": "code",
   "execution_count": null,
   "metadata": {},
   "outputs": [],
   "source": [
    "import sys\n",
    "from bs4 import BeautifulSoup\n",
    "import requests"
   ]
  },
  {
   "cell_type": "markdown",
   "metadata": {},
   "source": [
    "**Add path to look for modules**"
   ]
  },
  {
   "cell_type": "code",
   "execution_count": null,
   "metadata": {},
   "outputs": [],
   "source": [
    "import sys\n",
    "sys.path.append(\"../src\")"
   ]
  },
  {
   "cell_type": "code",
   "execution_count": null,
   "metadata": {},
   "outputs": [],
   "source": [
    "import helper_functions as hf"
   ]
  },
  {
   "cell_type": "markdown",
   "metadata": {},
   "source": [
    "## Multiple (sub)websites"
   ]
  },
  {
   "cell_type": "code",
   "execution_count": null,
   "metadata": {},
   "outputs": [],
   "source": [
    "url = 'https://www.beautyheaven.com.au/mum-baby/baby-skin/710-nivea-creme-nivea-creme'"
   ]
  },
  {
   "cell_type": "code",
   "execution_count": null,
   "metadata": {},
   "outputs": [],
   "source": [
    "??hf.generate_urls"
   ]
  },
  {
   "cell_type": "code",
   "execution_count": null,
   "metadata": {},
   "outputs": [],
   "source": [
    "urls = hf.generate_urls(url=url, pages=(1,15))\n",
    "urls"
   ]
  },
  {
   "cell_type": "markdown",
   "metadata": {},
   "source": [
    "## Fetching the content of several websites using `requests` and  `BeautifulSoup`"
   ]
  },
  {
   "cell_type": "code",
   "execution_count": null,
   "metadata": {},
   "outputs": [],
   "source": [
    "headers = {\"User-Agent\":\"Mozilla/5.0 (Windows NT 10.0; Win64;     x64; rv:66.0) Gecko/20100101 Firefox/66.0\", \"Accept-Encoding\":\"gzip, deflate\",     \"Accept\":\"text/html,application/xhtml+xml,application/xml;q=0.9,*/*;q=0.8\", \"DNT\":\"1\",\"Connection\":\"close\", \"Upgrade-Insecure-Requests\":\"1\"}\n",
    "reviews = ''\n",
    "for url in urls:\n",
    "    print(f'Processing url {url}')\n",
    "    page = requests.get(url, headers=headers)\n",
    "    soup = BeautifulSoup(page.content, 'html.parser')\n",
    "    text = hf.extract_text_from_soup(soup)\n",
    "    reviews = reviews + \" \" + text\n",
    "    print(f'There are {len(text.split())} words extracted.\\n')"
   ]
  },
  {
   "cell_type": "raw",
   "metadata": {},
   "source": [
    "## Alternative if the connection fails or the service dies\n",
    "## Set cell to code in order to run it\n",
    "\n",
    "import pickle\n",
    "soup_dict = pickle.load(open('../data/soups_websites.p', 'rb'))\n",
    "reviews = ''\n",
    "for url in urls:\n",
    "    print(f'Processing url {url}')\n",
    "    soup = soup_dict[url]\n",
    "    text = hf.extract_text_from_soup(soup)\n",
    "    reviews = reviews + \" \" + text\n",
    "    print(f'There are {len(text.split())} words extracted.\\n')\n",
    "    "
   ]
  },
  {
   "cell_type": "code",
   "execution_count": null,
   "metadata": {},
   "outputs": [],
   "source": [
    "#soup"
   ]
  },
  {
   "cell_type": "markdown",
   "metadata": {},
   "source": [
    "## Generating a word cloud"
   ]
  },
  {
   "cell_type": "code",
   "execution_count": null,
   "metadata": {},
   "outputs": [],
   "source": [
    "from wordcloud import WordCloud\n",
    "import matplotlib.pyplot as plt\n",
    "%matplotlib inline"
   ]
  },
  {
   "cell_type": "code",
   "execution_count": null,
   "metadata": {},
   "outputs": [],
   "source": [
    "# Create and generate a word cloud image:\n",
    "wordcloud = WordCloud().generate(reviews)\n",
    "\n",
    "\n",
    "# Display the generated image:\n",
    "fig, ax = plt.subplots(figsize=(12,6))\n",
    "ax.imshow(wordcloud, interpolation='bilinear')\n",
    "ax.axis(\"off\");"
   ]
  },
  {
   "cell_type": "markdown",
   "metadata": {},
   "source": [
    "### Playing around with wordclouds"
   ]
  },
  {
   "cell_type": "code",
   "execution_count": null,
   "metadata": {},
   "outputs": [],
   "source": [
    "#?WordCloud"
   ]
  },
  {
   "cell_type": "code",
   "execution_count": null,
   "metadata": {},
   "outputs": [],
   "source": [
    "# Create and generate a word cloud image:\n",
    "wordcloud = WordCloud(background_color=\"white\",\n",
    "                      max_words=60,\n",
    "                      mode=\"RGB\",\n",
    "                      relative_scaling=0.5,\n",
    "                      random_state=42\n",
    "                    ).generate(reviews)\n",
    "\n",
    "\n",
    "# Display the generated image:\n",
    "fig, ax = plt.subplots(figsize=(12,6))\n",
    "ax.imshow(wordcloud, interpolation='bilinear')\n",
    "ax.axis(\"off\");"
   ]
  },
  {
   "cell_type": "markdown",
   "metadata": {},
   "source": [
    "#### Using masks"
   ]
  },
  {
   "cell_type": "code",
   "execution_count": null,
   "metadata": {},
   "outputs": [],
   "source": [
    "from PIL import Image\n",
    "import numpy as np\n",
    "mask = np.array(Image.open(\"../data/images/world.png\"))   #choose mask\n",
    "\n",
    "# Create and generate a word cloud image:\n",
    "wordcloud = WordCloud(\n",
    "    background_color=\"white\",\n",
    "                    mask=mask,\n",
    "                    max_words=150,\n",
    "                    width=800,\n",
    "                    height=400,\n",
    "                    mode=\"RGB\",\n",
    "                    random_state=42\n",
    "                    ).generate(reviews)\n",
    "\n",
    "\n",
    "# Display the generated image:\n",
    "fig, ax = plt.subplots(figsize=(12,10))\n",
    "ax.imshow(wordcloud, interpolation='bilinear')\n",
    "ax.axis(\"off\");"
   ]
  },
  {
   "cell_type": "code",
   "execution_count": null,
   "metadata": {},
   "outputs": [],
   "source": [
    "mask = np.array(Image.open(\"../data/images/Hamburg_Umriss.png\"))   #choose mask\n",
    "\n",
    "# Create and generate a word cloud image:\n",
    "wordcloud = WordCloud(\n",
    "    background_color=\"white\",\n",
    "                    mask=mask,\n",
    "                    max_words=100,\n",
    "                    width=800,\n",
    "                    height=400,\n",
    "                    mode=\"RGB\",\n",
    "                    random_state=42\n",
    "                    ).generate(reviews)\n",
    "\n",
    "\n",
    "# Display the generated image:\n",
    "fig, ax = plt.subplots(figsize=(12,10))\n",
    "ax.imshow(wordcloud, interpolation='bilinear')\n",
    "ax.axis(\"off\");"
   ]
  },
  {
   "cell_type": "markdown",
   "metadata": {},
   "source": [
    "***"
   ]
  }
 ],
 "metadata": {
  "kernelspec": {
   "display_name": "Python 3",
   "language": "python",
   "name": "python3"
  },
  "language_info": {
   "codemirror_mode": {
    "name": "ipython",
    "version": 3
   },
   "file_extension": ".py",
   "mimetype": "text/x-python",
   "name": "python",
   "nbconvert_exporter": "python",
   "pygments_lexer": "ipython3",
   "version": "3.9.4"
  }
 },
 "nbformat": 4,
 "nbformat_minor": 4
}
