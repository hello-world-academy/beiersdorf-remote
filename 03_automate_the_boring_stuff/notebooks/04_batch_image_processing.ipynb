{
 "cells": [
  {
   "cell_type": "markdown",
   "metadata": {},
   "source": [
    "# Batch image processing using Python"
   ]
  },
  {
   "cell_type": "markdown",
   "metadata": {},
   "source": [
    "There are severale ways to deal with images in Python, resonable choices are [numpy](https://numpy.org/), [scikit-image](https://scikit-image.org/) or [Pillow](https://pillow.readthedocs.io/en/stable/).\n",
    "Here in this tutorial we will use __Pillow__."
   ]
  },
  {
   "cell_type": "markdown",
   "metadata": {},
   "source": [
    "__Setup__"
   ]
  },
  {
   "cell_type": "code",
   "execution_count": null,
   "metadata": {},
   "outputs": [],
   "source": [
    "from PIL import Image\n",
    "from pathlib import Path\n",
    "import matplotlib.pyplot as plt\n",
    "import numpy as np"
   ]
  },
  {
   "cell_type": "markdown",
   "metadata": {},
   "source": [
    "## Get a set of images from google (optional)\n",
    "We use code provided here: https://github.com/hardikvasa/google-images-download"
   ]
  },
  {
   "cell_type": "markdown",
   "metadata": {},
   "source": [
    "__Setting__"
   ]
  },
  {
   "cell_type": "code",
   "execution_count": null,
   "metadata": {},
   "outputs": [],
   "source": [
    "search_term = \"beiersdorf\"\n",
    "arguments = {\n",
    "    \"keywords\": search_term,\n",
    "    \"limit\": 15,\n",
    "    \"size\" : '>800*600',\n",
    "    \"print_urls\": True,\n",
    "    \"output_directory\": '../data/images',\n",
    "    'format' : 'png'\n",
    "        }"
   ]
  },
  {
   "cell_type": "code",
   "execution_count": null,
   "metadata": {},
   "outputs": [],
   "source": [
    "from google_images_download import google_images_download   # importing the library\n",
    "response = google_images_download.googleimagesdownload()   # class instantiation\n",
    "\n",
    "# uncomment to download images\n",
    "#paths = response.download(arguments)   # passing the arguments to the function"
   ]
  },
  {
   "cell_type": "markdown",
   "metadata": {},
   "source": [
    "## Open an image"
   ]
  },
  {
   "cell_type": "code",
   "execution_count": null,
   "metadata": {},
   "outputs": [],
   "source": [
    "!ls ../data/images/{search_term}/"
   ]
  },
  {
   "cell_type": "code",
   "execution_count": null,
   "metadata": {},
   "outputs": [],
   "source": [
    "p = Path(f'../data/images/beiersdorf/example.png')"
   ]
  },
  {
   "cell_type": "code",
   "execution_count": null,
   "metadata": {},
   "outputs": [],
   "source": [
    "img = Image.open(p) "
   ]
  },
  {
   "cell_type": "markdown",
   "metadata": {},
   "source": [
    "## Image properties"
   ]
  },
  {
   "cell_type": "code",
   "execution_count": null,
   "metadata": {},
   "outputs": [],
   "source": [
    "print(img.format)\n",
    "print()\n",
    "print(img.size)\n",
    "print(img.width)\n",
    "print(img.height)"
   ]
  },
  {
   "cell_type": "code",
   "execution_count": null,
   "metadata": {},
   "outputs": [],
   "source": [
    "img.format"
   ]
  },
  {
   "cell_type": "code",
   "execution_count": null,
   "metadata": {},
   "outputs": [],
   "source": [
    "img.mode"
   ]
  },
  {
   "cell_type": "code",
   "execution_count": null,
   "metadata": {},
   "outputs": [],
   "source": [
    "img.size"
   ]
  },
  {
   "cell_type": "code",
   "execution_count": null,
   "metadata": {},
   "outputs": [],
   "source": [
    "print(f'Width: {img.width}, Height: {img.height}')"
   ]
  },
  {
   "cell_type": "markdown",
   "metadata": {},
   "source": [
    "## Plot image"
   ]
  },
  {
   "cell_type": "code",
   "execution_count": null,
   "metadata": {},
   "outputs": [],
   "source": [
    "img"
   ]
  },
  {
   "cell_type": "code",
   "execution_count": null,
   "metadata": {},
   "outputs": [],
   "source": [
    "plt.imshow(img)"
   ]
  },
  {
   "cell_type": "markdown",
   "metadata": {},
   "source": [
    "## Image manipulation"
   ]
  },
  {
   "cell_type": "markdown",
   "metadata": {},
   "source": [
    "### Cropping"
   ]
  },
  {
   "cell_type": "code",
   "execution_count": null,
   "metadata": {},
   "outputs": [],
   "source": [
    "box = (400, 80, img.width, 500) # left, upper, right, and lower pixel coordinate\n",
    "img_crop = img.crop(box=box)\n",
    "plt.imshow(img_crop) "
   ]
  },
  {
   "cell_type": "markdown",
   "metadata": {},
   "source": [
    "***\n",
    "> __Challenge: Write a function called `image_crop`. The function should crop the image by a given ratio.__\n",
    "<img src=\"./_img/resize_image.png\"  width=\"600px\">"
   ]
  },
  {
   "cell_type": "code",
   "execution_count": null,
   "metadata": {},
   "outputs": [],
   "source": [
    "def image_crop(img, ratio=1):\n",
    "    '''\n",
    "    Function crop a PIL image object by a given ratio from 0 to 1.\n",
    "    : img: PIL image object\n",
    "    : ratio: float between 0 and 1\n",
    "    : returns: a cropped PIL image object\n",
    "    '''\n",
    "    assert ratio > 0, print(\"Warning: Ratio shall be greater than 0\")\n",
    "    assert ratio <= 1, print(\"Warning: Ratio shall be lower than 1\")\n",
    "    \n",
    "    center = (img.width // 2, img.height //2)\n",
    "    upper_left_x = None                  # your code here \n",
    "    upper_left_y = None                  # your code here \n",
    "    lower_right_x = None                 # your code here \n",
    "    lower_right_y = None                 # your code here \n",
    "    \n",
    "    # Checking if all None's have been replaced by actual code \n",
    "    if any(x is None for x in [upper_left_x, upper_left_y, lower_right_x, lower_right_y]):\n",
    "        print(\"Keep improving your code ...\\n\")\n",
    "        return img\n",
    "    else:\n",
    "        return img.crop(box=(upper_left_x, upper_left_y, lower_right_x, lower_right_y))"
   ]
  },
  {
   "cell_type": "markdown",
   "metadata": {},
   "source": [
    "_If you did not manage to compete the task feel free to look at a possible soultion by uncommenting the next code cell. Do not forget to run the cell twice!_"
   ]
  },
  {
   "cell_type": "code",
   "execution_count": null,
   "metadata": {},
   "outputs": [],
   "source": [
    "# %load ../src/_solutions/image_crop.py"
   ]
  },
  {
   "cell_type": "markdown",
   "metadata": {},
   "source": [
    "__Apply the function__"
   ]
  },
  {
   "cell_type": "code",
   "execution_count": null,
   "metadata": {},
   "outputs": [],
   "source": [
    "cropped_by_ratio = image_crop(img, ratio=0.5)\n",
    "print(f'Original: {img.size}, Cropped: {cropped_by_ratio.size}')\n",
    "plt.imshow(cropped_by_ratio);"
   ]
  },
  {
   "cell_type": "markdown",
   "metadata": {},
   "source": [
    "***"
   ]
  },
  {
   "cell_type": "markdown",
   "metadata": {},
   "source": [
    "### Filters"
   ]
  },
  {
   "cell_type": "code",
   "execution_count": null,
   "metadata": {},
   "outputs": [],
   "source": [
    "from PIL import ImageFilter\n",
    "\n",
    "# Blur the input image using the filter ImageFilter.BLUR\n",
    "img_crop.filter(filter=ImageFilter.BLUR)"
   ]
  },
  {
   "cell_type": "markdown",
   "metadata": {},
   "source": [
    "### Resize"
   ]
  },
  {
   "cell_type": "code",
   "execution_count": null,
   "metadata": {},
   "outputs": [],
   "source": [
    "(width, height) = (img_crop.width // 2, img_crop.height // 2)\n",
    "\n",
    "#PIL.Image.NEAREST # default\n",
    "#PIL.Image.BOX, PIL.Image.BILINEAR, PIL.Image.HAMMING, PIL.Image.BICUBIC or PIL.Image.LANCZOS.\n",
    "img_resized = img_crop.resize((width, height))\n",
    "print(f'cropped: {img_crop.size}, resized: {img_resized.size}')\n",
    "img_resized"
   ]
  },
  {
   "cell_type": "markdown",
   "metadata": {},
   "source": [
    "### Rotate"
   ]
  },
  {
   "cell_type": "code",
   "execution_count": null,
   "metadata": {},
   "outputs": [],
   "source": [
    "# Rotate the image by 60 degrees counter clockwise\n",
    "theta = 60\n",
    "# Angle is in degrees counter clockwise\n",
    "img_crop.rotate(angle=theta)"
   ]
  },
  {
   "cell_type": "code",
   "execution_count": null,
   "metadata": {},
   "outputs": [],
   "source": [
    "img_crop.rotate(angle=theta, expand=True)"
   ]
  },
  {
   "cell_type": "markdown",
   "metadata": {},
   "source": [
    "### Saving to disk"
   ]
  },
  {
   "cell_type": "code",
   "execution_count": null,
   "metadata": {},
   "outputs": [],
   "source": [
    "fp = Path('../data/images/bs_cropped.png')\n",
    "img_crop.save(fp)"
   ]
  },
  {
   "cell_type": "code",
   "execution_count": null,
   "metadata": {},
   "outputs": [],
   "source": [
    "fp.exists()"
   ]
  },
  {
   "cell_type": "markdown",
   "metadata": {},
   "source": [
    "## Image enhancments"
   ]
  },
  {
   "cell_type": "code",
   "execution_count": null,
   "metadata": {},
   "outputs": [],
   "source": [
    "from PIL import ImageEnhance"
   ]
  },
  {
   "cell_type": "markdown",
   "metadata": {},
   "source": [
    "### Sharpness"
   ]
  },
  {
   "cell_type": "code",
   "execution_count": null,
   "metadata": {},
   "outputs": [],
   "source": [
    "enhancer = ImageEnhance.Sharpness(img_crop)\n",
    "enhancer.enhance(0.3)"
   ]
  },
  {
   "cell_type": "markdown",
   "metadata": {},
   "source": [
    "### Color"
   ]
  },
  {
   "cell_type": "code",
   "execution_count": null,
   "metadata": {},
   "outputs": [],
   "source": [
    "enhancer = ImageEnhance.Color(img_crop)\n",
    "enhancer.enhance(0.25)"
   ]
  },
  {
   "cell_type": "markdown",
   "metadata": {},
   "source": [
    "### Contrast"
   ]
  },
  {
   "cell_type": "code",
   "execution_count": null,
   "metadata": {},
   "outputs": [],
   "source": [
    "enhancer = ImageEnhance.Contrast(img_crop)\n",
    "enhancer.enhance(0.75)"
   ]
  },
  {
   "cell_type": "markdown",
   "metadata": {},
   "source": [
    "### Brightness"
   ]
  },
  {
   "cell_type": "code",
   "execution_count": null,
   "metadata": {},
   "outputs": [],
   "source": [
    "enhancer = ImageEnhance.Brightness(img_crop)\n",
    "enhancer.enhance(0.25)"
   ]
  },
  {
   "cell_type": "markdown",
   "metadata": {},
   "source": [
    "***\n",
    "> __Challenge: Write a function called `image_process`. Use the function to apply a number of image processing steps to any image provided to the function.__"
   ]
  },
  {
   "cell_type": "code",
   "execution_count": null,
   "metadata": {},
   "outputs": [],
   "source": [
    "def image_process(img):\n",
    "    '''\n",
    "    Function to apply a series of image processing and enhancement steps on an image\n",
    "    : img: a PIL image object\n",
    "    : return: a copy of a processed/enhanced PIL image object\n",
    "    '''\n",
    "    # your code here ...\n",
    "    return img.copy() # returns a copy"
   ]
  },
  {
   "cell_type": "markdown",
   "metadata": {},
   "source": [
    "_If you did not manage to compete the task feel free to look at a possible soultion by uncommenting the next code cell. Do not forget to run the cell twice!_"
   ]
  },
  {
   "cell_type": "code",
   "execution_count": null,
   "metadata": {},
   "outputs": [],
   "source": [
    "# %load ../src/_solutions/image_process.py"
   ]
  },
  {
   "cell_type": "code",
   "execution_count": null,
   "metadata": {},
   "outputs": [],
   "source": [
    "image_process(img)"
   ]
  },
  {
   "cell_type": "markdown",
   "metadata": {},
   "source": [
    "## Expand to batch processing"
   ]
  },
  {
   "cell_type": "code",
   "execution_count": null,
   "metadata": {},
   "outputs": [],
   "source": [
    "# google search images\n",
    "paths = Path(f'../data/images/{search_term}/').glob('*.png')\n",
    "\n",
    "# images from Ahmed\n",
    "#paths = Path(f'../data/images/Ahmed/').glob('*.JPG')"
   ]
  },
  {
   "cell_type": "code",
   "execution_count": null,
   "metadata": {},
   "outputs": [],
   "source": [
    "out_path = Path('../data/images/processed/')\n",
    "for path in paths:\n",
    "    print(f'Processing {path} ...')\n",
    "    try:\n",
    "        img = Image.open(path) \n",
    "        processed = image_process(img)\n",
    "        fp = out_path.joinpath(path.name)\n",
    "        processed.save(fp)\n",
    "    except Exception as e:\n",
    "        print(f'\\nWarning {e}. Image {path.name} is excluded!\\n')"
   ]
  },
  {
   "cell_type": "markdown",
   "metadata": {},
   "source": [
    "***"
   ]
  }
 ],
 "metadata": {
  "kernelspec": {
   "display_name": "Python 3",
   "language": "python",
   "name": "python3"
  },
  "language_info": {
   "codemirror_mode": {
    "name": "ipython",
    "version": 3
   },
   "file_extension": ".py",
   "mimetype": "text/x-python",
   "name": "python",
   "nbconvert_exporter": "python",
   "pygments_lexer": "ipython3",
   "version": "3.6.7"
  }
 },
 "nbformat": 4,
 "nbformat_minor": 4
}
