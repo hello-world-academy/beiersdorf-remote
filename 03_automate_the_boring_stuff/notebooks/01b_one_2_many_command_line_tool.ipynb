{
 "cells": [
  {
   "cell_type": "markdown",
   "metadata": {},
   "source": [
    "# From one dataset to many - a command line tool"
   ]
  },
  {
   "cell_type": "code",
   "execution_count": null,
   "metadata": {},
   "outputs": [],
   "source": [
    "# %load ../src/one_to_many.py \n",
    "'''\n",
    "A commandline tool in Python to split a large tabular data file (.csv)\n",
    "into smaler chunks based on the unique values in a particular column \n",
    "'''\n",
    "\n",
    "# import packages from the python standart library\n",
    "import os\n",
    "from pathlib import Path\n",
    "# import 3rd party packages, use pip or conda for installing\n",
    "import pandas as pd\n",
    "import fire\n",
    "\n",
    "class One2Many():\n",
    "    '''\n",
    "    Split a large tabular data file (.csv) into smaler chunks \n",
    "    based on the unique values in a particular column \n",
    "\n",
    "    Usage:\n",
    "    python one_to_many.py one2many --filepath '../path/to/data.csv' --colname 'name_to_split'\n",
    "    '''\n",
    "    def __init__(self):\n",
    "        self.filepath = None\n",
    "        self.data = None\n",
    "        self.splitcolumn = None\n",
    "        self.extension = None\n",
    "\n",
    "    def read_file(self, filepath):\n",
    "        '''\n",
    "        Read file using pandas\n",
    "        '''\n",
    "        self.filepath = filepath\n",
    "        self.extension = Path(filepath).suffix\n",
    "        print(f'\\n*********************************************\\n')\n",
    "        if self.extension not in ['.xlsx', '.xls', '.csv']:\n",
    "            print(f'The program cannot deal with files with the extension {self.extension}')\n",
    "            data = None\n",
    "        elif self.extension in ['.xlsx', '.xls']:\n",
    "            print('Processing an Excel file is not yet implemented. Try a .csv file.')\n",
    "            data = None\n",
    "        else:\n",
    "            print(f'Loading the CSV file {Path(self.filepath).name}\\n')\n",
    "            data = pd.read_csv(self.filepath)\n",
    "        self.data = data\n",
    "        \n",
    "    \n",
    "    def extract_subsets(self, colname=None):\n",
    "        '''\n",
    "        Subset the dataset and save it to disk\n",
    "        '''\n",
    "        if colname is None:\n",
    "            print(f'Column name to split on is not set.')\n",
    "            return\n",
    "        else:\n",
    "            self.splitcolumn = colname\n",
    "\n",
    "        outpath = Path(self.filepath).parents[0].resolve()\n",
    "        \n",
    "        for name in self.data[self.splitcolumn].unique():\n",
    "            print(f'Computing {name} ...')\n",
    "            subset = self.data.loc[self.data[self.splitcolumn] == name]\n",
    "            fname = f'subset_{name.replace(\" \", \"_\")}{self.extension}'\n",
    "            filepath_subset = os.path.join(outpath, fname)\n",
    "            subset.to_csv(filepath_subset, index=False)\n",
    "            print(f'Saving file to {filepath_subset}\\n')\n",
    "\n",
    "    def one2many(self, filepath, colname):\n",
    "        '''\n",
    "        Main function\n",
    "        '''\n",
    "        self.read_file(filepath=filepath)\n",
    "        if self.data is not None:\n",
    "            self.extract_subsets(colname=colname)\n",
    "        print(f'\\n*********************************************\\n')\n",
    "\n",
    "if __name__ == '__main__':\n",
    "    main = One2Many()  \n",
    "    fire.Fire(main)\n"
   ]
  },
  {
   "cell_type": "markdown",
   "metadata": {},
   "source": [
    "In order to run that tool use the terminal and move to the folder `/src`.\n",
    "\n",
    "Then type the following command\n",
    "\n",
    "`python one_to_many.py one2many --filepath '../data/fake_beiersdorf_data.csv' --colname 'Name'`\n"
   ]
  },
  {
   "cell_type": "markdown",
   "metadata": {},
   "source": [
    "***"
   ]
  }
 ],
 "metadata": {
  "kernelspec": {
   "display_name": "Python 3",
   "language": "python",
   "name": "python3"
  },
  "language_info": {
   "codemirror_mode": {
    "name": "ipython",
    "version": 3
   },
   "file_extension": ".py",
   "mimetype": "text/x-python",
   "name": "python",
   "nbconvert_exporter": "python",
   "pygments_lexer": "ipython3",
   "version": "3.6.7"
  }
 },
 "nbformat": 4,
 "nbformat_minor": 4
}
