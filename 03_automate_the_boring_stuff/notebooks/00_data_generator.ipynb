{
 "cells": [
  {
   "cell_type": "markdown",
   "metadata": {},
   "source": [
    "# Tabular data examples"
   ]
  },
  {
   "cell_type": "code",
   "execution_count": null,
   "metadata": {},
   "outputs": [],
   "source": [
    "import numpy as np\n",
    "import pandas as pd"
   ]
  },
  {
   "cell_type": "markdown",
   "metadata": {},
   "source": [
    "## Generate data: `from one to many`"
   ]
  },
  {
   "cell_type": "code",
   "execution_count": null,
   "metadata": {},
   "outputs": [],
   "source": [
    "N = 5000"
   ]
  },
  {
   "cell_type": "code",
   "execution_count": null,
   "metadata": {},
   "outputs": [],
   "source": [
    "dates_range = pd.date_range(start='1/1/2005', periods=N)\n",
    "dates_range[-10:]"
   ]
  },
  {
   "cell_type": "code",
   "execution_count": null,
   "metadata": {},
   "outputs": [],
   "source": [
    "date = pd.to_datetime(np.random.choice(dates_range, N))\n",
    "region = None\n",
    "var1 = np.random.random(N)\n",
    "var2 = np.random.choice(['in progress', 'completed'], N)\n",
    "var3 = np.random.choice([True, False], N)\n",
    "rand_table = pd.DataFrame({'Date':date, 'Var1':var1, 'Var2':var2, 'Var3':var3})"
   ]
  },
  {
   "cell_type": "code",
   "execution_count": null,
   "metadata": {},
   "outputs": [],
   "source": [
    "name = ['Beiersdorf AG', 'Beiersdorf Customer Supply GmbH', 'Beiersdorf Manufacturing Berlin GmbH', \n",
    "       'Beiersdorf Manufacturing Hamburg GmbH', 'Beiersdorf Manufacturing Waldheim GmbH',\"Beiersdorf Shared Services GmbH\",\n",
    "       \"La Prairie Group Deutschland GmbH\", \"WINGMAN-STUDIOS GmbH\"]\n",
    "address = ['Unnastrasse 48', 'Unnastrasse 48', 'Franklinstrasse 1', 'Troplowitzstrasse 10', 'Am Eichberg', \n",
    "          'Quickbornstrasse 24', 'Lange Straße 65', 'Troplowitzstrasse 10']\n",
    "zip_code = ['20253', '20253', '10587', '22529', '04736', '20253', '76530', '22529']\n",
    "city = ['Hamburg', 'Hamburg', 'Berlin', 'Hamburg','Waldheim', 'Hamburg', 'Baden-Baden' 'Hamburg']\n",
    "country = ['Germany'] * len(city)\n",
    "\n",
    "zipped = list(zip(name, address, zip_code, city, country))\n",
    "idx = np.random.choice(range(len(city)), N)\n",
    "headquaters = pd.DataFrame([zipped[i] for i in idx], columns=['Name', 'Address', 'Zip-code', 'City', 'Country'])"
   ]
  },
  {
   "cell_type": "code",
   "execution_count": null,
   "metadata": {},
   "outputs": [],
   "source": [
    "data = pd.concat([rand_table, headquaters], sort=True, axis=1)"
   ]
  },
  {
   "cell_type": "code",
   "execution_count": null,
   "metadata": {},
   "outputs": [],
   "source": [
    "data.sample(10)"
   ]
  },
  {
   "cell_type": "code",
   "execution_count": null,
   "metadata": {},
   "outputs": [],
   "source": [
    "data.to_csv('../data/fake_beiersdorf_data_german.csv', sep=';', index=False)\n",
    "data.to_csv('../data/fake_beiersdorf_data.csv', index=False)"
   ]
  },
  {
   "cell_type": "markdown",
   "metadata": {},
   "source": [
    "***"
   ]
  },
  {
   "cell_type": "markdown",
   "metadata": {},
   "source": [
    "## Generate data: `from xls to xlsx`"
   ]
  },
  {
   "cell_type": "markdown",
   "metadata": {},
   "source": [
    "__xls__"
   ]
  },
  {
   "cell_type": "code",
   "execution_count": null,
   "metadata": {},
   "outputs": [],
   "source": [
    "number_of_files = 50\n",
    "\n",
    "for e in range(number_of_files):\n",
    "    filename = f'../data/xls_files/fake_xlsfile_{e}.xls'\n",
    "    N = np.random.randint(25, 1000) # random number of rows\n",
    "    var1 = np.random.random(N)\n",
    "    var2 = np.random.choice(['in progress', 'completed'], N)\n",
    "    var3 = np.random.choice([True, False], N)\n",
    "    rand_table = pd.DataFrame({'Var1':var1, 'Var2':var2, 'Var3':var3})\n",
    "    rand_table.to_excel(filename)\n"
   ]
  },
  {
   "cell_type": "markdown",
   "metadata": {},
   "source": [
    "__xlsx__"
   ]
  },
  {
   "cell_type": "raw",
   "metadata": {},
   "source": [
    "number_of_files = 50\n",
    "\n",
    "for e in range(number_of_files):\n",
    "    filename = f'../data/xlsx_files/fake_xlsfile_{e}.xlsx'\n",
    "    N = np.random.randint(25, 1000) # random number of rows\n",
    "    var1 = np.random.random(N)\n",
    "    var2 = np.random.choice(['in progress', 'completed'], N)\n",
    "    var3 = np.random.choice([True, False], N)\n",
    "    rand_table = pd.DataFrame({'Var1':var1, 'Var2':var2, 'Var3':var3})\n",
    "    rand_table.to_excel(filename)"
   ]
  },
  {
   "cell_type": "markdown",
   "metadata": {},
   "source": [
    "***"
   ]
  },
  {
   "cell_type": "markdown",
   "metadata": {},
   "source": [
    "# Image download from google\n",
    "\n",
    "https://github.com/hardikvasa/google-images-download"
   ]
  },
  {
   "cell_type": "code",
   "execution_count": null,
   "metadata": {},
   "outputs": [],
   "source": [
    "arguments = {\n",
    "    \"keywords\": \"beiersdorf\",\n",
    "    \"limit\": 15,\n",
    "    \"size\" : '>800*600',\n",
    "    \"print_urls\": True,\n",
    "    \"output_directory\": '../data/images',\n",
    "    'format' : 'png'\n",
    "        }"
   ]
  },
  {
   "cell_type": "code",
   "execution_count": null,
   "metadata": {},
   "outputs": [],
   "source": [
    "from google_images_download import google_images_download   #importing the library\n",
    "response = google_images_download.googleimagesdownload()   #class instantiation"
   ]
  },
  {
   "cell_type": "code",
   "execution_count": null,
   "metadata": {},
   "outputs": [],
   "source": [
    "paths = response.download(arguments)   #passing the arguments to the function"
   ]
  },
  {
   "cell_type": "code",
   "execution_count": null,
   "metadata": {},
   "outputs": [],
   "source": []
  }
 ],
 "metadata": {
  "kernelspec": {
   "display_name": "Python 3",
   "language": "python",
   "name": "python3"
  },
  "language_info": {
   "codemirror_mode": {
    "name": "ipython",
    "version": 3
   },
   "file_extension": ".py",
   "mimetype": "text/x-python",
   "name": "python",
   "nbconvert_exporter": "python",
   "pygments_lexer": "ipython3",
   "version": "3.9.4"
  }
 },
 "nbformat": 4,
 "nbformat_minor": 4
}
