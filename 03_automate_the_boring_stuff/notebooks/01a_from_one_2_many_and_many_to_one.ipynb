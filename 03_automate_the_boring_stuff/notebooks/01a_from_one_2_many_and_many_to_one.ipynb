{
 "cells": [
  {
   "cell_type": "markdown",
   "metadata": {},
   "source": [
    "# From one dataset to many"
   ]
  },
  {
   "cell_type": "markdown",
   "metadata": {},
   "source": [
    "**Load the data**"
   ]
  },
  {
   "cell_type": "code",
   "execution_count": 1,
   "metadata": {},
   "outputs": [
    {
     "data": {
      "text/plain": [
       "(5000, 9)"
      ]
     },
     "execution_count": 1,
     "metadata": {},
     "output_type": "execute_result"
    }
   ],
   "source": [
    "import pandas as pd\n",
    "data = pd.read_csv('../data/fake_beiersdorf_data.csv')\n",
    "data.shape"
   ]
  },
  {
   "cell_type": "code",
   "execution_count": 2,
   "metadata": {},
   "outputs": [
    {
     "data": {
      "text/html": [
       "<div>\n",
       "<style scoped>\n",
       "    .dataframe tbody tr th:only-of-type {\n",
       "        vertical-align: middle;\n",
       "    }\n",
       "\n",
       "    .dataframe tbody tr th {\n",
       "        vertical-align: top;\n",
       "    }\n",
       "\n",
       "    .dataframe thead th {\n",
       "        text-align: right;\n",
       "    }\n",
       "</style>\n",
       "<table border=\"1\" class=\"dataframe\">\n",
       "  <thead>\n",
       "    <tr style=\"text-align: right;\">\n",
       "      <th></th>\n",
       "      <th>Date</th>\n",
       "      <th>Var1</th>\n",
       "      <th>Var2</th>\n",
       "      <th>Var3</th>\n",
       "      <th>Name</th>\n",
       "      <th>Address</th>\n",
       "      <th>Zip-code</th>\n",
       "      <th>City</th>\n",
       "      <th>Country</th>\n",
       "    </tr>\n",
       "  </thead>\n",
       "  <tbody>\n",
       "    <tr>\n",
       "      <th>0</th>\n",
       "      <td>2006-06-24</td>\n",
       "      <td>0.564530</td>\n",
       "      <td>completed</td>\n",
       "      <td>False</td>\n",
       "      <td>La Prairie Group Deutschland GmbH</td>\n",
       "      <td>Lange Straße 65</td>\n",
       "      <td>76530</td>\n",
       "      <td>Baden-BadenHamburg</td>\n",
       "      <td>Germany</td>\n",
       "    </tr>\n",
       "    <tr>\n",
       "      <th>1</th>\n",
       "      <td>2007-06-24</td>\n",
       "      <td>0.114768</td>\n",
       "      <td>completed</td>\n",
       "      <td>False</td>\n",
       "      <td>Beiersdorf Manufacturing Hamburg GmbH</td>\n",
       "      <td>Troplowitzstrasse 10</td>\n",
       "      <td>22529</td>\n",
       "      <td>Hamburg</td>\n",
       "      <td>Germany</td>\n",
       "    </tr>\n",
       "    <tr>\n",
       "      <th>2</th>\n",
       "      <td>2014-05-27</td>\n",
       "      <td>0.793343</td>\n",
       "      <td>in progress</td>\n",
       "      <td>False</td>\n",
       "      <td>Beiersdorf AG</td>\n",
       "      <td>Unnastrasse 48</td>\n",
       "      <td>20253</td>\n",
       "      <td>Hamburg</td>\n",
       "      <td>Germany</td>\n",
       "    </tr>\n",
       "    <tr>\n",
       "      <th>3</th>\n",
       "      <td>2009-12-10</td>\n",
       "      <td>0.785397</td>\n",
       "      <td>completed</td>\n",
       "      <td>True</td>\n",
       "      <td>Beiersdorf Manufacturing Waldheim GmbH</td>\n",
       "      <td>Am Eichberg</td>\n",
       "      <td>4736</td>\n",
       "      <td>Waldheim</td>\n",
       "      <td>Germany</td>\n",
       "    </tr>\n",
       "    <tr>\n",
       "      <th>4</th>\n",
       "      <td>2016-01-15</td>\n",
       "      <td>0.360336</td>\n",
       "      <td>in progress</td>\n",
       "      <td>True</td>\n",
       "      <td>La Prairie Group Deutschland GmbH</td>\n",
       "      <td>Lange Straße 65</td>\n",
       "      <td>76530</td>\n",
       "      <td>Baden-BadenHamburg</td>\n",
       "      <td>Germany</td>\n",
       "    </tr>\n",
       "  </tbody>\n",
       "</table>\n",
       "</div>"
      ],
      "text/plain": [
       "         Date      Var1         Var2   Var3  \\\n",
       "0  2006-06-24  0.564530    completed  False   \n",
       "1  2007-06-24  0.114768    completed  False   \n",
       "2  2014-05-27  0.793343  in progress  False   \n",
       "3  2009-12-10  0.785397    completed   True   \n",
       "4  2016-01-15  0.360336  in progress   True   \n",
       "\n",
       "                                     Name               Address  Zip-code  \\\n",
       "0       La Prairie Group Deutschland GmbH       Lange Straße 65     76530   \n",
       "1   Beiersdorf Manufacturing Hamburg GmbH  Troplowitzstrasse 10     22529   \n",
       "2                           Beiersdorf AG        Unnastrasse 48     20253   \n",
       "3  Beiersdorf Manufacturing Waldheim GmbH           Am Eichberg      4736   \n",
       "4       La Prairie Group Deutschland GmbH       Lange Straße 65     76530   \n",
       "\n",
       "                 City  Country  \n",
       "0  Baden-BadenHamburg  Germany  \n",
       "1             Hamburg  Germany  \n",
       "2             Hamburg  Germany  \n",
       "3            Waldheim  Germany  \n",
       "4  Baden-BadenHamburg  Germany  "
      ]
     },
     "execution_count": 2,
     "metadata": {},
     "output_type": "execute_result"
    }
   ],
   "source": [
    "data.head()"
   ]
  },
  {
   "cell_type": "markdown",
   "metadata": {},
   "source": [
    "## Split large dataset into many small ones based on the variable `Name`"
   ]
  },
  {
   "cell_type": "code",
   "execution_count": 3,
   "metadata": {},
   "outputs": [
    {
     "data": {
      "text/plain": [
       "0            La Prairie Group Deutschland GmbH\n",
       "1        Beiersdorf Manufacturing Hamburg GmbH\n",
       "2                                Beiersdorf AG\n",
       "3       Beiersdorf Manufacturing Waldheim GmbH\n",
       "4            La Prairie Group Deutschland GmbH\n",
       "                         ...                  \n",
       "4995         La Prairie Group Deutschland GmbH\n",
       "4996         La Prairie Group Deutschland GmbH\n",
       "4997           Beiersdorf Customer Supply GmbH\n",
       "4998           Beiersdorf Shared Services GmbH\n",
       "4999                             Beiersdorf AG\n",
       "Name: Name, Length: 5000, dtype: object"
      ]
     },
     "execution_count": 3,
     "metadata": {},
     "output_type": "execute_result"
    }
   ],
   "source": [
    "data.Name"
   ]
  },
  {
   "cell_type": "code",
   "execution_count": 4,
   "metadata": {},
   "outputs": [
    {
     "data": {
      "text/plain": [
       "array(['La Prairie Group Deutschland GmbH',\n",
       "       'Beiersdorf Manufacturing Hamburg GmbH', 'Beiersdorf AG',\n",
       "       'Beiersdorf Manufacturing Waldheim GmbH',\n",
       "       'Beiersdorf Shared Services GmbH',\n",
       "       'Beiersdorf Manufacturing Berlin GmbH',\n",
       "       'Beiersdorf Customer Supply GmbH'], dtype=object)"
      ]
     },
     "execution_count": 4,
     "metadata": {},
     "output_type": "execute_result"
    }
   ],
   "source": [
    "data.Name.unique()"
   ]
  },
  {
   "cell_type": "code",
   "execution_count": 5,
   "metadata": {},
   "outputs": [
    {
     "data": {
      "text/plain": [
       "7"
      ]
     },
     "execution_count": 5,
     "metadata": {},
     "output_type": "execute_result"
    }
   ],
   "source": [
    "data.Name.nunique()"
   ]
  },
  {
   "cell_type": "code",
   "execution_count": 6,
   "metadata": {},
   "outputs": [
    {
     "name": "stdout",
     "output_type": "stream",
     "text": [
      "Computing La Prairie Group Deutschland GmbH ...\n",
      "Computing Beiersdorf Manufacturing Hamburg GmbH ...\n",
      "Computing Beiersdorf AG ...\n",
      "Computing Beiersdorf Manufacturing Waldheim GmbH ...\n",
      "Computing Beiersdorf Shared Services GmbH ...\n",
      "Computing Beiersdorf Manufacturing Berlin GmbH ...\n",
      "Computing Beiersdorf Customer Supply GmbH ...\n"
     ]
    }
   ],
   "source": [
    "for name in data.Name.unique():\n",
    "    print(f'Computing {name} ...')\n",
    "    subset = data.loc[data.Name == name]"
   ]
  },
  {
   "cell_type": "code",
   "execution_count": 7,
   "metadata": {},
   "outputs": [
    {
     "data": {
      "text/html": [
       "<div>\n",
       "<style scoped>\n",
       "    .dataframe tbody tr th:only-of-type {\n",
       "        vertical-align: middle;\n",
       "    }\n",
       "\n",
       "    .dataframe tbody tr th {\n",
       "        vertical-align: top;\n",
       "    }\n",
       "\n",
       "    .dataframe thead th {\n",
       "        text-align: right;\n",
       "    }\n",
       "</style>\n",
       "<table border=\"1\" class=\"dataframe\">\n",
       "  <thead>\n",
       "    <tr style=\"text-align: right;\">\n",
       "      <th></th>\n",
       "      <th>Date</th>\n",
       "      <th>Var1</th>\n",
       "      <th>Var2</th>\n",
       "      <th>Var3</th>\n",
       "      <th>Name</th>\n",
       "      <th>Address</th>\n",
       "      <th>Zip-code</th>\n",
       "      <th>City</th>\n",
       "      <th>Country</th>\n",
       "    </tr>\n",
       "  </thead>\n",
       "  <tbody>\n",
       "    <tr>\n",
       "      <th>4059</th>\n",
       "      <td>2015-08-27</td>\n",
       "      <td>0.428914</td>\n",
       "      <td>in progress</td>\n",
       "      <td>False</td>\n",
       "      <td>Beiersdorf Customer Supply GmbH</td>\n",
       "      <td>Unnastrasse 48</td>\n",
       "      <td>20253</td>\n",
       "      <td>Hamburg</td>\n",
       "      <td>Germany</td>\n",
       "    </tr>\n",
       "    <tr>\n",
       "      <th>145</th>\n",
       "      <td>2007-05-08</td>\n",
       "      <td>0.154952</td>\n",
       "      <td>in progress</td>\n",
       "      <td>False</td>\n",
       "      <td>Beiersdorf Customer Supply GmbH</td>\n",
       "      <td>Unnastrasse 48</td>\n",
       "      <td>20253</td>\n",
       "      <td>Hamburg</td>\n",
       "      <td>Germany</td>\n",
       "    </tr>\n",
       "    <tr>\n",
       "      <th>26</th>\n",
       "      <td>2012-02-06</td>\n",
       "      <td>0.520463</td>\n",
       "      <td>in progress</td>\n",
       "      <td>True</td>\n",
       "      <td>Beiersdorf Customer Supply GmbH</td>\n",
       "      <td>Unnastrasse 48</td>\n",
       "      <td>20253</td>\n",
       "      <td>Hamburg</td>\n",
       "      <td>Germany</td>\n",
       "    </tr>\n",
       "    <tr>\n",
       "      <th>3095</th>\n",
       "      <td>2006-07-12</td>\n",
       "      <td>0.571239</td>\n",
       "      <td>completed</td>\n",
       "      <td>True</td>\n",
       "      <td>Beiersdorf Customer Supply GmbH</td>\n",
       "      <td>Unnastrasse 48</td>\n",
       "      <td>20253</td>\n",
       "      <td>Hamburg</td>\n",
       "      <td>Germany</td>\n",
       "    </tr>\n",
       "    <tr>\n",
       "      <th>2149</th>\n",
       "      <td>2017-11-11</td>\n",
       "      <td>0.188070</td>\n",
       "      <td>in progress</td>\n",
       "      <td>False</td>\n",
       "      <td>Beiersdorf Customer Supply GmbH</td>\n",
       "      <td>Unnastrasse 48</td>\n",
       "      <td>20253</td>\n",
       "      <td>Hamburg</td>\n",
       "      <td>Germany</td>\n",
       "    </tr>\n",
       "    <tr>\n",
       "      <th>4296</th>\n",
       "      <td>2011-12-09</td>\n",
       "      <td>0.873076</td>\n",
       "      <td>in progress</td>\n",
       "      <td>True</td>\n",
       "      <td>Beiersdorf Customer Supply GmbH</td>\n",
       "      <td>Unnastrasse 48</td>\n",
       "      <td>20253</td>\n",
       "      <td>Hamburg</td>\n",
       "      <td>Germany</td>\n",
       "    </tr>\n",
       "    <tr>\n",
       "      <th>4994</th>\n",
       "      <td>2018-06-09</td>\n",
       "      <td>0.868741</td>\n",
       "      <td>completed</td>\n",
       "      <td>True</td>\n",
       "      <td>Beiersdorf Customer Supply GmbH</td>\n",
       "      <td>Unnastrasse 48</td>\n",
       "      <td>20253</td>\n",
       "      <td>Hamburg</td>\n",
       "      <td>Germany</td>\n",
       "    </tr>\n",
       "    <tr>\n",
       "      <th>3474</th>\n",
       "      <td>2011-03-25</td>\n",
       "      <td>0.928925</td>\n",
       "      <td>in progress</td>\n",
       "      <td>False</td>\n",
       "      <td>Beiersdorf Customer Supply GmbH</td>\n",
       "      <td>Unnastrasse 48</td>\n",
       "      <td>20253</td>\n",
       "      <td>Hamburg</td>\n",
       "      <td>Germany</td>\n",
       "    </tr>\n",
       "    <tr>\n",
       "      <th>2749</th>\n",
       "      <td>2018-05-04</td>\n",
       "      <td>0.237094</td>\n",
       "      <td>completed</td>\n",
       "      <td>False</td>\n",
       "      <td>Beiersdorf Customer Supply GmbH</td>\n",
       "      <td>Unnastrasse 48</td>\n",
       "      <td>20253</td>\n",
       "      <td>Hamburg</td>\n",
       "      <td>Germany</td>\n",
       "    </tr>\n",
       "    <tr>\n",
       "      <th>549</th>\n",
       "      <td>2016-11-10</td>\n",
       "      <td>0.426424</td>\n",
       "      <td>in progress</td>\n",
       "      <td>True</td>\n",
       "      <td>Beiersdorf Customer Supply GmbH</td>\n",
       "      <td>Unnastrasse 48</td>\n",
       "      <td>20253</td>\n",
       "      <td>Hamburg</td>\n",
       "      <td>Germany</td>\n",
       "    </tr>\n",
       "  </tbody>\n",
       "</table>\n",
       "</div>"
      ],
      "text/plain": [
       "            Date      Var1         Var2   Var3  \\\n",
       "4059  2015-08-27  0.428914  in progress  False   \n",
       "145   2007-05-08  0.154952  in progress  False   \n",
       "26    2012-02-06  0.520463  in progress   True   \n",
       "3095  2006-07-12  0.571239    completed   True   \n",
       "2149  2017-11-11  0.188070  in progress  False   \n",
       "4296  2011-12-09  0.873076  in progress   True   \n",
       "4994  2018-06-09  0.868741    completed   True   \n",
       "3474  2011-03-25  0.928925  in progress  False   \n",
       "2749  2018-05-04  0.237094    completed  False   \n",
       "549   2016-11-10  0.426424  in progress   True   \n",
       "\n",
       "                                 Name         Address  Zip-code     City  \\\n",
       "4059  Beiersdorf Customer Supply GmbH  Unnastrasse 48     20253  Hamburg   \n",
       "145   Beiersdorf Customer Supply GmbH  Unnastrasse 48     20253  Hamburg   \n",
       "26    Beiersdorf Customer Supply GmbH  Unnastrasse 48     20253  Hamburg   \n",
       "3095  Beiersdorf Customer Supply GmbH  Unnastrasse 48     20253  Hamburg   \n",
       "2149  Beiersdorf Customer Supply GmbH  Unnastrasse 48     20253  Hamburg   \n",
       "4296  Beiersdorf Customer Supply GmbH  Unnastrasse 48     20253  Hamburg   \n",
       "4994  Beiersdorf Customer Supply GmbH  Unnastrasse 48     20253  Hamburg   \n",
       "3474  Beiersdorf Customer Supply GmbH  Unnastrasse 48     20253  Hamburg   \n",
       "2749  Beiersdorf Customer Supply GmbH  Unnastrasse 48     20253  Hamburg   \n",
       "549   Beiersdorf Customer Supply GmbH  Unnastrasse 48     20253  Hamburg   \n",
       "\n",
       "      Country  \n",
       "4059  Germany  \n",
       "145   Germany  \n",
       "26    Germany  \n",
       "3095  Germany  \n",
       "2149  Germany  \n",
       "4296  Germany  \n",
       "4994  Germany  \n",
       "3474  Germany  \n",
       "2749  Germany  \n",
       "549   Germany  "
      ]
     },
     "execution_count": 7,
     "metadata": {},
     "output_type": "execute_result"
    }
   ],
   "source": [
    "subset.sample(10)"
   ]
  },
  {
   "cell_type": "code",
   "execution_count": null,
   "metadata": {},
   "outputs": [],
   "source": [
    "import os\n",
    "for name in data.Name.unique():\n",
    "    print(f'Computing {name} ...')\n",
    "    subset = data.loc[data.Name == name]\n",
    "    fname = f'subset_{name.replace(\" \", \"_\")}.csv'\n",
    "    filepath = os.path.join('..', 'data', 'interim', fname)\n",
    "    subset.to_csv(filepath, index=False)"
   ]
  },
  {
   "cell_type": "markdown",
   "metadata": {},
   "source": [
    "***"
   ]
  },
  {
   "cell_type": "markdown",
   "metadata": {},
   "source": [
    "# From many to one"
   ]
  },
  {
   "cell_type": "code",
   "execution_count": null,
   "metadata": {},
   "outputs": [],
   "source": [
    "!ls ../data/interim/"
   ]
  },
  {
   "cell_type": "code",
   "execution_count": null,
   "metadata": {},
   "outputs": [],
   "source": [
    "import glob"
   ]
  },
  {
   "cell_type": "code",
   "execution_count": null,
   "metadata": {},
   "outputs": [],
   "source": [
    "filelist = glob.glob(os.path.join('..', 'data', 'interim', '*.csv'))\n",
    "filelist"
   ]
  },
  {
   "cell_type": "code",
   "execution_count": null,
   "metadata": {},
   "outputs": [],
   "source": [
    "dfs = []\n",
    "for f in filelist:\n",
    "    data = pd.read_csv(f)\n",
    "    dfs.append(data)\n",
    "fulldata = pd.concat(dfs)\n",
    "fulldata.shape"
   ]
  },
  {
   "cell_type": "code",
   "execution_count": null,
   "metadata": {},
   "outputs": [],
   "source": [
    "fulldata.sample(10)"
   ]
  },
  {
   "cell_type": "markdown",
   "metadata": {},
   "source": [
    "***"
   ]
  }
 ],
 "metadata": {
  "kernelspec": {
   "display_name": "Python 3",
   "language": "python",
   "name": "python3"
  },
  "language_info": {
   "codemirror_mode": {
    "name": "ipython",
    "version": 3
   },
   "file_extension": ".py",
   "mimetype": "text/x-python",
   "name": "python",
   "nbconvert_exporter": "python",
   "pygments_lexer": "ipython3",
   "version": "3.9.4"
  }
 },
 "nbformat": 4,
 "nbformat_minor": 4
}
