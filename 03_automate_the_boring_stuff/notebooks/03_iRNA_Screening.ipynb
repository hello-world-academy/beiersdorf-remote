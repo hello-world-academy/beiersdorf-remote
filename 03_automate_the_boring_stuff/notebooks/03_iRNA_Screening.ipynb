{
 "cells": [
  {
   "cell_type": "markdown",
   "metadata": {},
   "source": [
    "# Text file parsing for iRNA Screening"
   ]
  },
  {
   "cell_type": "markdown",
   "metadata": {},
   "source": [
    "__Setup__"
   ]
  },
  {
   "cell_type": "code",
   "execution_count": null,
   "metadata": {},
   "outputs": [],
   "source": [
    "import matplotlib.pyplot as plt\n",
    "import numpy as np\n",
    "import pandas as pd\n",
    "from pathlib import Path\n",
    "import shutil"
   ]
  },
  {
   "cell_type": "markdown",
   "metadata": {},
   "source": [
    "## iRNA Screening"
   ]
  },
  {
   "cell_type": "markdown",
   "metadata": {},
   "source": [
    "<img src=\"./_img/20180803_143938.jpg\" width='75%'>"
   ]
  },
  {
   "cell_type": "markdown",
   "metadata": {},
   "source": [
    "<img src=\"./_img/image002.png\">"
   ]
  },
  {
   "cell_type": "markdown",
   "metadata": {},
   "source": [
    "## Task\n",
    "\n",
    "The method of siRNA screening focuses on _switching off_ particular genes in a cell body.\n",
    "The template comes in a _384 well format_. A robitic instrument with 96 needles does the measurments, hence, during measurment the result is transformed to a 4 x 96 well format. Each of those measurements is then stored in a `.txt` file.\n",
    "\n",
    "The file names look like this:\n",
    "\n",
    "```\n",
    "20180611_112154 NOREAD_PLATE.TXT\n",
    "20180611_113634 NOREAD_PLATE.TXT\n",
    "20180611_115108 NOREAD_PLATE.TXT\n",
    "20180611_120542 NOREAD_PLATE.TXT\n",
    "20180611_122017 NOREAD_PLATE.TXT\n",
    "…\n",
    "```\n",
    "> __1. The first task is to rename the filnames each corresponding to a block of for files e.g.  `Drugs_A1.1.txt`, `Drugs_A1.2.txt`, ..., `Drugs_A2.1.txt`, ... Note that the files encode the date and time in their filenames.__\n",
    "\n",
    "The example above would result in something like that:\n",
    "```\n",
    "20180611_112154 NOREAD_PLATE.TXT —> Drugs_A1.1.txt\n",
    "20180611_113634 NOREAD_PLATE.TXT —> Drugs_A1.2.txt\n",
    "20180611_115108 NOREAD_PLATE.TXT —> Drugs_A1.3.txt\n",
    "20180611_120542 NOREAD_PLATE.TXT —> Drugs_A1.4.txt\n",
    "```\n",
    "\n",
    "> __2. The second task is to extract a particular section of the textifles and store this section in a `.xlsx` file.__\n",
    "\n",
    "```\n",
    "Drugs_A1.1.txt —> Drugs_A1.1.xlsx\n",
    "```\n",
    "\n",
    "\n",
    "\n",
    " \n",
    " "
   ]
  },
  {
   "cell_type": "markdown",
   "metadata": {},
   "source": [
    "## Example data\n",
    "\n",
    "The data is strored in `../data/iRNA_Screening/`\n",
    "\n",
    "Let us take a loot at one of them:"
   ]
  },
  {
   "cell_type": "code",
   "execution_count": null,
   "metadata": {},
   "outputs": [],
   "source": [
    "! cat ../data/iRNA_Screening/20180611_112154\\ NOREAD_PLATE.TXT"
   ]
  },
  {
   "cell_type": "markdown",
   "metadata": {},
   "source": [
    "## Task 1: Sorting files based on date and time"
   ]
  },
  {
   "cell_type": "markdown",
   "metadata": {},
   "source": [
    "### Getting the paths"
   ]
  },
  {
   "cell_type": "code",
   "execution_count": null,
   "metadata": {},
   "outputs": [],
   "source": [
    "path =  Path('../data/iRNA_Screening/')"
   ]
  },
  {
   "cell_type": "code",
   "execution_count": null,
   "metadata": {},
   "outputs": [],
   "source": [
    "path.glob('**/20*.TXT')"
   ]
  },
  {
   "cell_type": "code",
   "execution_count": null,
   "metadata": {},
   "outputs": [],
   "source": [
    "list(path.glob('**/20*.TXT'))"
   ]
  },
  {
   "cell_type": "code",
   "execution_count": null,
   "metadata": {},
   "outputs": [],
   "source": [
    "f = list(path.glob('**/20*.TXT'))[0]"
   ]
  },
  {
   "cell_type": "code",
   "execution_count": null,
   "metadata": {},
   "outputs": [],
   "source": [
    "f"
   ]
  },
  {
   "cell_type": "markdown",
   "metadata": {},
   "source": [
    "### Getting the date and time from the filename"
   ]
  },
  {
   "cell_type": "code",
   "execution_count": null,
   "metadata": {},
   "outputs": [],
   "source": [
    "raw_datetime = f.stem.split(' ')[0]\n",
    "raw_datetime"
   ]
  },
  {
   "cell_type": "code",
   "execution_count": null,
   "metadata": {},
   "outputs": [],
   "source": [
    "datetime = pd.to_datetime(raw_datetime, format='%Y%m%d_%H%M%S')\n",
    "datetime"
   ]
  },
  {
   "cell_type": "markdown",
   "metadata": {},
   "source": [
    "## Apply logic to all files"
   ]
  },
  {
   "cell_type": "code",
   "execution_count": null,
   "metadata": {},
   "outputs": [],
   "source": [
    "out = {}\n",
    "for f in path.glob('**/20*.TXT'):\n",
    "    raw_datetime = f.stem.split(' ')[0]\n",
    "    datetime = pd.to_datetime(raw_datetime, format='%Y%m%d_%H%M%S')\n",
    "    out[datetime] = f"
   ]
  },
  {
   "cell_type": "code",
   "execution_count": null,
   "metadata": {},
   "outputs": [],
   "source": [
    "out"
   ]
  },
  {
   "cell_type": "markdown",
   "metadata": {},
   "source": [
    "### Group files based on datetime and rename"
   ]
  },
  {
   "cell_type": "code",
   "execution_count": null,
   "metadata": {},
   "outputs": [],
   "source": [
    "for k in sorted(out.keys()):\n",
    "    print(k)"
   ]
  },
  {
   "cell_type": "code",
   "execution_count": null,
   "metadata": {},
   "outputs": [],
   "source": [
    "index = list(range(1,int(np.ceil((len(out.keys())+1)/4))))\n",
    "index"
   ]
  },
  {
   "cell_type": "code",
   "execution_count": null,
   "metadata": {},
   "outputs": [],
   "source": [
    "# set starting values\n",
    "index_pos = -1 # -1 instead of 0 as 0 % 4 == 0!\n",
    "sub_index = 1\n",
    "txt = 'Drugs_A'\n",
    "\n",
    "for e, k in enumerate(sorted(out.keys())):\n",
    "    if e % 4 == 0:\n",
    "        # if e is 0, 4, 8, 12, ... do:\n",
    "        index_pos += 1\n",
    "        sub_index = 1\n",
    "        print (f'\\nIndex position = {index_pos}')\n",
    "    \n",
    "    # generate new filename\n",
    "    new_name = f'{txt}{index[index_pos]}.{sub_index}.TXT'\n",
    "    print(f'Old name: {k} --> New name: {new_name}')\n",
    "    sub_index += 1\n",
    "    \n",
    "    # copy file with new name\n",
    "    source_name = out[k]\n",
    "    shutil.copyfile(source_name, path.joinpath(new_name))\n",
    "    "
   ]
  },
  {
   "cell_type": "markdown",
   "metadata": {},
   "source": [
    "## Task 2: Extract a particular section of the textifle and store this section in a `.xlsx` file."
   ]
  },
  {
   "cell_type": "code",
   "execution_count": null,
   "metadata": {},
   "outputs": [],
   "source": [
    "#! cat ../data/iRNA_Screening/Drugs_A1.1.TXT"
   ]
  },
  {
   "cell_type": "code",
   "execution_count": null,
   "metadata": {},
   "outputs": [],
   "source": [
    "#pd.read_csv('../data/iRNA_Screening/Drugs_A1.1.TXT')"
   ]
  },
  {
   "cell_type": "markdown",
   "metadata": {},
   "source": [
    "### Load data using pandas powerful `read_csv` function"
   ]
  },
  {
   "cell_type": "code",
   "execution_count": null,
   "metadata": {},
   "outputs": [],
   "source": [
    "df_raw = pd.read_csv('../data/iRNA_Screening/Drugs_A1.1.TXT', \n",
    "                     skiprows=55, \n",
    "                     skipfooter=79, \n",
    "                     sep='\\t', \n",
    "                     encoding='utf-16', \n",
    "                     engine='python')\n",
    "df_raw"
   ]
  },
  {
   "cell_type": "markdown",
   "metadata": {},
   "source": [
    "### Subset the data"
   ]
  },
  {
   "cell_type": "code",
   "execution_count": null,
   "metadata": {},
   "outputs": [],
   "source": [
    "df = df_raw[df_raw.columns[2:14]]\n",
    "df.columns = range(1,13)\n",
    "df"
   ]
  },
  {
   "cell_type": "markdown",
   "metadata": {},
   "source": [
    "### Apply logic to all files and safe them as `.xlsx` files"
   ]
  },
  {
   "cell_type": "code",
   "execution_count": null,
   "metadata": {},
   "outputs": [],
   "source": [
    "list(path.glob('**/Drug*.TXT'))"
   ]
  },
  {
   "cell_type": "code",
   "execution_count": null,
   "metadata": {},
   "outputs": [],
   "source": [
    "for f in path.glob('**/Drug*.TXT'):\n",
    "    # load the data\n",
    "    df_raw = pd.read_csv(f, \n",
    "                         skiprows=55, \n",
    "                         skipfooter=79, \n",
    "                         sep='\\t', \n",
    "                         encoding='utf-16', \n",
    "                         engine='python')\n",
    "    # subset\n",
    "    df = df_raw[df_raw.columns[2:14]]\n",
    "    df.columns = range(1,13)\n",
    "    # save\n",
    "    filename = Path(*f.parts[:-1]).joinpath(f.parts[-1].replace('TXT', 'xlsx'))\n",
    "    df.to_excel(filename, index=False)\n",
    "    "
   ]
  },
  {
   "cell_type": "markdown",
   "metadata": {},
   "source": [
    "***"
   ]
  }
 ],
 "metadata": {
  "kernelspec": {
   "display_name": "Python 3",
   "language": "python",
   "name": "python3"
  },
  "language_info": {
   "codemirror_mode": {
    "name": "ipython",
    "version": 3
   },
   "file_extension": ".py",
   "mimetype": "text/x-python",
   "name": "python",
   "nbconvert_exporter": "python",
   "pygments_lexer": "ipython3",
   "version": "3.6.7"
  }
 },
 "nbformat": 4,
 "nbformat_minor": 4
}
