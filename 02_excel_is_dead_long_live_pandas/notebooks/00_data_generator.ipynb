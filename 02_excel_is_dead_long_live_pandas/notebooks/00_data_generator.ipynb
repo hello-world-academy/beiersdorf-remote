{
 "cells": [
  {
   "cell_type": "markdown",
   "metadata": {},
   "source": [
    "# Tabular data examples"
   ]
  },
  {
   "cell_type": "code",
   "execution_count": null,
   "metadata": {},
   "outputs": [],
   "source": [
    "import numpy as np\n",
    "import pandas as pd"
   ]
  },
  {
   "cell_type": "markdown",
   "metadata": {},
   "source": [
    "## Generate data: `from one to many`"
   ]
  },
  {
   "cell_type": "code",
   "execution_count": null,
   "metadata": {},
   "outputs": [],
   "source": [
    "def random_dates(start, end, n=10):\n",
    "\n",
    "    start_u = start.value//10**9\n",
    "    end_u = end.value//10**9\n",
    "\n",
    "    return pd.to_datetime(np.random.randint(start_u, end_u, n), unit='s')"
   ]
  },
  {
   "cell_type": "code",
   "execution_count": null,
   "metadata": {},
   "outputs": [],
   "source": [
    "date_range = np.arange(1986, 2021)\n",
    "date_range"
   ]
  },
  {
   "cell_type": "code",
   "execution_count": null,
   "metadata": {},
   "outputs": [],
   "source": [
    "min_max_break_points=(3,9)\n",
    "break_points = np.random.randint(min_max_break_points[0], min_max_break_points[1])\n",
    "date_range = [int(x) for x in np.linspace(1986, 2020, break_points+1)]\n",
    "for break_point in range(break_points):\n",
    "    print(date_range[break_point], date_range[break_point+1])"
   ]
  },
  {
   "cell_type": "code",
   "execution_count": null,
   "metadata": {},
   "outputs": [],
   "source": [
    "date_range"
   ]
  },
  {
   "cell_type": "code",
   "execution_count": null,
   "metadata": {},
   "outputs": [],
   "source": [
    "date_range"
   ]
  },
  {
   "cell_type": "code",
   "execution_count": null,
   "metadata": {},
   "outputs": [],
   "source": [
    "break_points"
   ]
  },
  {
   "cell_type": "code",
   "execution_count": null,
   "metadata": {},
   "outputs": [],
   "source": [
    "[int(x) for x in np.linspace(1986, 2021, 3+1)]"
   ]
  },
  {
   "cell_type": "code",
   "execution_count": null,
   "metadata": {},
   "outputs": [],
   "source": [
    "def random_dataset(min_max_rows = (100, 5000), min_max_break_points=(3,9)):\n",
    "    break_points = np.random.randint(min_max_break_points[0], min_max_break_points[1])\n",
    "    date_range = [int(x) for x in np.linspace(1986, 2020, break_points+1)]\n",
    "    dfs = []\n",
    "    for break_point in range(break_points):\n",
    "        N = np.random.randint(min_max_rows[0], min_max_rows[1])    \n",
    "        start = pd.to_datetime(f'{date_range[break_point]}-01-01')\n",
    "        end = pd.to_datetime(f'{date_range[break_point+1]}-12-31')\n",
    "        date = random_dates(start, end, n=N)\n",
    "        var1 = np.random.random(N)\n",
    "        p = np.random.random()\n",
    "        var2 = np.random.choice(['in progress', 'completed'], size=N, p=(p,1-p))\n",
    "        p = np.random.random()\n",
    "        var3 = np.random.choice([True, False],  size=N, p=(p,1-p))\n",
    "        rand_table = pd.DataFrame({'Date':date, 'Estimate':var1, 'Status':var2, 'Success':var3})\n",
    "        dfs.append(rand_table)\n",
    "    return pd.concat(dfs).reset_index(drop=True)"
   ]
  },
  {
   "cell_type": "code",
   "execution_count": null,
   "metadata": {},
   "outputs": [],
   "source": [
    "start = pd.to_datetime('2015-01-01')\n",
    "end = pd.to_datetime('2021-06-10')\n",
    "random_dates(start, end)"
   ]
  },
  {
   "cell_type": "code",
   "execution_count": null,
   "metadata": {},
   "outputs": [],
   "source": [
    "rand_table = random_dataset()\n",
    "rand_table"
   ]
  },
  {
   "cell_type": "code",
   "execution_count": null,
   "metadata": {},
   "outputs": [],
   "source": [
    "name = ['Beiersdorf AG', 'Beiersdorf Customer Supply GmbH', 'Beiersdorf Manufacturing Berlin GmbH', \n",
    "       'Beiersdorf Manufacturing Hamburg GmbH', 'Beiersdorf Manufacturing Waldheim GmbH',\"Beiersdorf Shared Services GmbH\",\n",
    "       \"La Prairie Group Deutschland GmbH\", \"WINGMAN-STUDIOS GmbH\"]\n",
    "address = ['Unnastrasse 48', 'Unnastrasse 48', 'Franklinstrasse 1', 'Troplowitzstrasse 10', 'Am Eichberg', \n",
    "          'Quickbornstrasse 24', 'Lange Straße 65', 'Troplowitzstrasse 10']\n",
    "zip_code = ['20253', '20253', '10587', '22529', '04736', '20253', '76530', '22529']\n",
    "city = ['Hamburg', 'Hamburg', 'Berlin', 'Hamburg','Waldheim', 'Hamburg', 'Baden-Baden' 'Hamburg']\n",
    "country = ['Germany'] * len(city)\n",
    "\n",
    "headquaters = list(zip(name, address, zip_code, city, country))\n",
    "headquater_columns=['Name', 'Address', 'Zip-code', 'City', 'Country']"
   ]
  },
  {
   "cell_type": "code",
   "execution_count": null,
   "metadata": {},
   "outputs": [],
   "source": [
    "dfs = []\n",
    "for headquater in headquaters:\n",
    "    rand_table = random_dataset()\n",
    "    rand_table[headquater_columns] = headquater\n",
    "    dfs.append(rand_table)\n",
    "data = pd.concat(dfs).sort_index().reset_index(drop=True)\n",
    "data.shape"
   ]
  },
  {
   "cell_type": "code",
   "execution_count": null,
   "metadata": {},
   "outputs": [],
   "source": [
    "data.head(10)"
   ]
  },
  {
   "cell_type": "code",
   "execution_count": null,
   "metadata": {},
   "outputs": [],
   "source": [
    "data.sample(10)"
   ]
  },
  {
   "cell_type": "code",
   "execution_count": null,
   "metadata": {},
   "outputs": [],
   "source": [
    "data.to_csv('../data/fake_beiersdorf_data_german.csv', sep=';', index=False)\n",
    "data.to_csv('../data/fake_beiersdorf_data.csv', index=False)"
   ]
  },
  {
   "cell_type": "markdown",
   "metadata": {},
   "source": [
    "> Note: The data set in generated randomly, running the notebook again may alter downstream analysis"
   ]
  }
 ],
 "metadata": {
  "kernelspec": {
   "display_name": "Python 3",
   "language": "python",
   "name": "python3"
  },
  "language_info": {
   "codemirror_mode": {
    "name": "ipython",
    "version": 3
   },
   "file_extension": ".py",
   "mimetype": "text/x-python",
   "name": "python",
   "nbconvert_exporter": "python",
   "pygments_lexer": "ipython3",
   "version": "3.9.4"
  }
 },
 "nbformat": 4,
 "nbformat_minor": 4
}
